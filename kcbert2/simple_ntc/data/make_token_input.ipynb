{
 "cells": [
  {
   "cell_type": "code",
   "execution_count": 1,
   "metadata": {},
   "outputs": [],
   "source": [
    "import matplotlib.pyplot as plt\n",
    "%matplotlib inline\n",
    "import pandas as pd\n",
    "import numpy as np\n",
    "import re\n",
    "import os\n",
    "import csv\n",
    "from khaiii import KhaiiiApi"
   ]
  },
  {
   "cell_type": "code",
   "execution_count": 2,
   "metadata": {},
   "outputs": [],
   "source": [
    "from sklearn import preprocessing\n",
    "from sklearn.model_selection import train_test_split\n",
    "import csv\n",
    "import numpy as np"
   ]
  },
  {
   "cell_type": "code",
   "execution_count": 3,
   "metadata": {},
   "outputs": [],
   "source": [
    "df = pd.read_csv(\"refined_data_pre.tsv\", delimiter='\\t', names=['tag', 'sentence'])\n",
    "\n",
    "LabelData = df['tag']\n",
    "TextData = df['sentence']"
   ]
  },
  {
   "cell_type": "code",
   "execution_count": 4,
   "metadata": {},
   "outputs": [],
   "source": [
    "api = KhaiiiApi()\n",
    "\n",
    "def pos_text(Text_train):\n",
    "    corpus = []\n",
    "    for sent in Text_train:\n",
    "        pos_tagged = ''\n",
    "        for word in api.analyze(sent):\n",
    "            for morph in word.morphs:\n",
    "                pos_tagged += morph.lex + ' '\n",
    "        corpus.append(pos_tagged.strip())\n",
    "    return corpus\n",
    "\n",
    "TextData = pos_text(TextData)\n"
   ]
  },
  {
   "cell_type": "code",
   "execution_count": null,
   "metadata": {},
   "outputs": [],
   "source": [
    "'''api = KhaiiiApi()\n",
    "\n",
    "tags = ['EP','EF','EC','NP','NR','NNG', 'NNP', 'NNB', 'VV', 'VCP', 'VCN', 'VA', 'VX','MM','JC','MAG', 'MAJ', 'XR', 'XSV', 'XSA']\n",
    "# 필요한 토큰만 뽑는 함수\n",
    "\n",
    "def pos_text(Text_train):\n",
    "    corpus = []\n",
    "    for i in Text_train:\n",
    "        pos_tagged = ''\n",
    "        for word in api.analyze(i):\n",
    "            for morph in word.morphs:\n",
    "                if morph.tag in tags:\n",
    "                    pos_tagged += morph.lex + ' ' \n",
    "        corpus.append(pos_tagged.strip())\n",
    "    return corpus\n",
    "\n",
    "TextData = pos_text(TextData)'''"
   ]
  },
  {
   "cell_type": "code",
   "execution_count": 5,
   "metadata": {},
   "outputs": [
    {
     "name": "stdout",
     "output_type": "stream",
     "text": [
      "Write train data to train.tsv ...\n",
      "Write test data to test.tsv ...\n"
     ]
    }
   ],
   "source": [
    "'''x_text = TextData\n",
    "y = LabelData\n",
    "TextData = np.array(TextData)    \n",
    "s = np.arange(TextData.shape[0])\n",
    "np.random.shuffle(s)\n",
    "\n",
    "TextData = TextData[s]\n",
    "#print (\"셔플 한 뒤의 문장 배열: \", TextData)\n",
    "LabelData = LabelData[s]\n",
    "#print (\"셔플 한 뒤의 라벨 배열: \", LabelData) \n",
    "\n",
    "x_train, x_test = train_test_split(TextData, test_size=0.2, shuffle=False)\n",
    "y_train, y_test = train_test_split(LabelData, test_size=0.2, shuffle=False)\n",
    "\n",
    "        \n",
    "    \n",
    "# Write to TSV file\n",
    "with open('train_token.tsv', 'wt', newline='', encoding='utf-8-sig') as f:\n",
    "    print('Write train data to {} ...'.format('train.tsv'))\n",
    "    writer = csv.writer(f, delimiter='\\t')\n",
    "    writer.writerows(zip(y_train, x_train))\n",
    "with open('test_token.tsv', 'w', newline='', encoding='utf-8-sig') as f:\n",
    "    print('Write test data to {} ...'.format('test.tsv'))\n",
    "    writer = csv.writer(f, delimiter='\\t')\n",
    "    writer.writerows(zip(y_test, x_test))'''"
   ]
  },
  {
   "cell_type": "code",
   "execution_count": 5,
   "metadata": {},
   "outputs": [
    {
     "name": "stdout",
     "output_type": "stream",
     "text": [
      "Write train data to final_test.tsv ...\n"
     ]
    }
   ],
   "source": [
    "# Write to TSV file\n",
    "with open('final_test.tsv', 'wt', newline='', encoding='utf-8-sig') as f:\n",
    "    print('Write train data to {} ...'.format('final_test.tsv'))\n",
    "    writer = csv.writer(f, delimiter='\\t')\n",
    "    writer.writerows(zip(TextData, LabelData))"
   ]
  },
  {
   "cell_type": "code",
   "execution_count": null,
   "metadata": {},
   "outputs": [],
   "source": []
  }
 ],
 "metadata": {
  "kernelspec": {
   "display_name": "Python 3",
   "language": "python",
   "name": "python3"
  },
  "language_info": {
   "codemirror_mode": {
    "name": "ipython",
    "version": 3
   },
   "file_extension": ".py",
   "mimetype": "text/x-python",
   "name": "python",
   "nbconvert_exporter": "python",
   "pygments_lexer": "ipython3",
   "version": "3.7.6"
  }
 },
 "nbformat": 4,
 "nbformat_minor": 4
}
