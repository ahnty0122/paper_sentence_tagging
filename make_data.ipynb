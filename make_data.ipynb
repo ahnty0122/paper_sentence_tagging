{
 "cells": [
  {
   "cell_type": "code",
   "execution_count": 2,
   "metadata": {},
   "outputs": [],
   "source": [
    "#가장 널리 사용하는 자연어 처리 라이브러리\n",
    "import nltk\n",
    "nltk.__version__\n",
    "# 실행 후 발생하는 팝업에서 필요한 데이터를 선택해 다운로드하면 된다.\n",
    "#nltk.download('') \n",
    "\n",
    "# 한국어 자연어처리를 위한 라이브러리\n",
    "import konlpy\n",
    "\n",
    "# etc\n",
    "import matplotlib.pyplot as plt\n",
    "%matplotlib inline\n",
    "import pandas as pd\n",
    "import numpy as np\n",
    "import re\n",
    "import os\n",
    "import csv\n",
    "from konlpy.utils import pprint\n",
    "from konlpy.tag import Kkma\n"
   ]
  },
  {
   "cell_type": "code",
   "execution_count": 3,
   "metadata": {},
   "outputs": [],
   "source": [
    "\n",
    "from sklearn import preprocessing\n",
    "from tensorflow.keras.preprocessing.text import Tokenizer\n",
    "from tensorflow.keras.preprocessing.sequence import pad_sequences\n",
    "from tensorflow.keras.utils import to_categorical\n",
    "from sklearn.metrics import classification_report\n",
    "import urllib.request\n",
    "\n",
    "#케라스 안 쓰니까 이 셀 필요 x"
   ]
  },
  {
   "cell_type": "code",
   "execution_count": 4,
   "metadata": {},
   "outputs": [],
   "source": [
    "#엑셀 파일로 저장된 데이터 불러오기\n",
    "\n",
    "data = pd.read_csv('data.csv')\n",
    "kkma = Kkma()\n"
   ]
  },
  {
   "cell_type": "code",
   "execution_count": 5,
   "metadata": {
    "scrolled": true
   },
   "outputs": [
    {
     "name": "stdout",
     "output_type": "stream",
     "text": [
      "length:  37168\n",
      "dimension:  2\n",
      "shape:  (37168, 4)\n"
     ]
    }
   ],
   "source": [
    "#분류 여부가 Y 인 것들 만으로 모델 학습 진행\n",
    "tf = data['대표여부'] == 'Y'\n",
    "data = data[tf]\n",
    "#print(data)\n",
    "#print(\"csv 시트의 데이터 타입: \",type(data))\n",
    "\n",
    "data = data.values     #4개의 칼럼 ('논문고유번호', '태그', '문장', '대표여부') 으로 되어있음\n",
    "print(\"length: \",len(data))\n",
    "print(\"dimension: \",data.ndim)\n",
    "print(\"shape: \", data.shape)\n",
    "\n",
    "#print(\".vlues 의 데이터 타입\", type(data))\n",
    "#print(data[:,2])\n",
    "np.save('NLP_TextData.npy', data[:,2])\n",
    "np.save('NLP_LabelData.npy',data[:,1])\n",
    "\n",
    "TextData = np.load('NLP_TextData.npy', allow_pickle=1)\n",
    "LabelData = np.load('NLP_LabelData.npy', allow_pickle=1)\n",
    "\n",
    "#for i in range(len(data)):\n",
    "#               print(kkma.morphs(data[i,2]))\n"
   ]
  },
  {
   "cell_type": "code",
   "execution_count": 9,
   "metadata": {
    "scrolled": false
   },
   "outputs": [
    {
     "name": "stdout",
     "output_type": "stream",
     "text": [
      "성능/효과     7879\n",
      "대상 데이터    4769\n",
      "후속연구      4584\n",
      "데이터처리     4288\n",
      "문제 정의     4288\n",
      "제안 방법     4215\n",
      "기술 정의     3951\n",
      "이론/모형     2140\n",
      "가설 설정     1054\n",
      "dtype: int64\n"
     ]
    },
    {
     "data": {
      "text/plain": [
       "<AxesSubplot:>"
      ]
     },
     "execution_count": 9,
     "metadata": {},
     "output_type": "execute_result"
    },
    {
     "data": {
      "image/png": "[encoded data removed]",
      "text/plain": [
       "<Figure size 432x288 with 1 Axes>"
      ]
     },
     "metadata": {
      "needs_background": "light"
     },
     "output_type": "display_data"
    }
   ],
   "source": [
    "# plt 한글 폰트 깨지는 거 해결 \n",
    "import matplotlib.font_manager as fm\n",
    "from matplotlib import rc\n",
    "    # 윈도우에 기본으로 깔려있는 폰트 뭐뭐 있나 확인하는거\n",
    "font_list = fm.findSystemFonts(fontpaths=None, fontext='ttf')\n",
    "font_list[:]\n",
    "  \n",
    "rc('font',family=\"NanumGothic\")\n",
    "\n",
    "# 가진 데이터 태그 분포 확인하기\n",
    "temp = pd.Series(LabelData)\n",
    "print(temp.value_counts())\n",
    "temp.value_counts().plot(kind = 'bar')"
   ]
  },
  {
   "cell_type": "code",
   "execution_count": 10,
   "metadata": {},
   "outputs": [
    {
     "name": "stdout",
     "output_type": "stream",
     "text": [
      "TextData의 크기:  (37168,)\n",
      "LabelData의 크기: (37168,)\n"
     ]
    }
   ],
   "source": [
    "#traindata랑 testdata로 나누기\n",
    "# 문장과 라벨을 섞어줄거다\n",
    "# 두 ndarray가 동일하게 random.shuffle() 이 적용 되어야 함 << 시발 어떻게?\n",
    "\n",
    "print(\"TextData의 크기: \", TextData.shape)\n",
    "print(\"LabelData의 크기:\", LabelData.shape)\n",
    "\n",
    "s = np.arange(TextData.shape[0])\n",
    "np.random.shuffle(s)\n",
    "\n",
    "TextData = TextData[s]\n",
    "#print (\"셔플 한 뒤의 문장 배열: \", TextData)\n",
    "LabelData = LabelData[s]\n",
    "#print (\"셔플 한 뒤의 라벨 배열: \", LabelData)  >> ㅇㅇㅇ\n",
    "\n",
    "# train : test = 8 : 2 으로 나눠보쟝\n",
    "from sklearn.model_selection import train_test_split\n",
    "\n",
    "Text_train, Text_test = train_test_split(TextData, test_size=0.2, shuffle=False)\n",
    "Label_train, Label_test = train_test_split(LabelData, test_size=0.2, shuffle=False)"
   ]
  },
  {
   "cell_type": "code",
   "execution_count": 11,
   "metadata": {},
   "outputs": [
    {
     "name": "stdout",
     "output_type": "stream",
     "text": [
      "29734 7434\n",
      "29734 7434\n",
      "2 등급 지반에서 측압계수(K0)는 1.0과 1.5, 토피고는 40 m, 50 m, 60 m, 확폭형상은 박스형과 아치형, 보강방법은 무지보와 록볼트로 총 24 case로 나누었다. \n",
      "대상 데이터\n"
     ]
    }
   ],
   "source": [
    "print(len(Text_train), len(Text_test))\n",
    "print(len(Label_train), len(Label_test))\n",
    "\n",
    "print(Text_train[1004])\n",
    "print(Label_train[1004])"
   ]
  },
  {
   "cell_type": "code",
   "execution_count": 13,
   "metadata": {},
   "outputs": [
    {
     "name": "stdout",
     "output_type": "stream",
     "text": [
      "{0: 0, 1: 1, 2: 2, 3: 3, 4: 4, 5: 5, 6: 6, 7: 7, 8: 8}\n",
      "실험에 사용된 Folin & Ciocalteu’s phenol reagent,diethylene glycol, tannic acid, quercetin, 2,2-diphenyl-1-picrylhydrazyl (DPPH), 2,2'-azino-bisdiammonium salt (ABTS) 등의 시약은 SigmaAldrich사(St. Louis, MO, USA)의 제품을 사용하였다. \n",
      "2\n",
      "본 논문에서는, 저성능 단말 장치에서 동작 가능한 블록체인 기반의 경량 상호 인증 프로토콜을 제안한다.\n",
      "7\n"
     ]
    }
   ],
   "source": [
    "# label 인코딩\n",
    "idx_encode = preprocessing.LabelEncoder()  # 사이킷런 툴임\n",
    "idx_encode.fit(Label_train)\n",
    "\n",
    "Label_train = idx_encode.transform(Label_train) # 주어진 고유한 정수로 변환\n",
    "Label_test = idx_encode.transform(Label_test) # 고유한 정수로 변환\n",
    "\n",
    "label_idx = dict(zip(list(idx_encode.classes_), idx_encode.transform(list(idx_encode.classes_))))\n",
    "print(label_idx)\n",
    "\n",
    "\n",
    "#확인\n",
    "print(Text_train[15])\n",
    "print(Label_train[15])\n",
    "\n",
    "print(Text_test[100])\n",
    "print(Label_test[100])"
   ]
  },
  {
   "cell_type": "code",
   "execution_count": 14,
   "metadata": {},
   "outputs": [
    {
     "name": "stdout",
     "output_type": "stream",
     "text": [
      "단어 집합(Vocabulary)의 크기 : 155292\n",
      "문장의 최대 길이 : 127\n",
      "문장의 평균 길이 : 24.70205824981503\n"
     ]
    },
    {
     "data": {
      "image/png": "[encoded data removed]",
      "text/plain": [
       "<Figure size 432x288 with 1 Axes>"
      ]
     },
     "metadata": {
      "needs_background": "light"
     },
     "output_type": "display_data"
    }
   ],
   "source": [
    "# text 토큰화, text 인코딩\n",
    "tokenizer = Tokenizer()\n",
    "tokenizer.fit_on_texts(Text_train)\n",
    "sequences = tokenizer.texts_to_sequences(Text_train)\n",
    "\n",
    "word_index = tokenizer.word_index\n",
    "vocab_size = len(word_index) + 1\n",
    "print('단어 집합(Vocabulary)의 크기 :',vocab_size)\n",
    "\n",
    "# 문장의 길이파악 >> 패딩 사이즈를 정하기 위해\n",
    "print('문장의 최대 길이 :',max(len(l) for l in sequences))\n",
    "print('문장의 평균 길이 :',sum(map(len, sequences))/len(sequences))\n",
    "plt.hist([len(s) for s in sequences], bins=50)\n",
    "plt.xlabel('length of samples')\n",
    "plt.ylabel('number of samples')\n",
    "plt.show()\n"
   ]
  },
  {
   "cell_type": "code",
   "execution_count": 15,
   "metadata": {},
   "outputs": [
    {
     "name": "stdout",
     "output_type": "stream",
     "text": [
      "전체 데이터의 크기(shape): (29734, 133)\n",
      "레이블 데이터의 크기(shape): (29734, 9)\n"
     ]
    }
   ],
   "source": [
    "max_len = 133\n",
    "# 각각의 문장을 토큰화 한것을 166개로 지정된(패딩된) 리스트에 정수 인코딩\n",
    "Text_train = pad_sequences(sequences, maxlen = max_len)\n",
    "\n",
    "# 라벨은 다중 클래스 분류를 위한 원핫인코딩\n",
    "Label_train = to_categorical(np.asarray(Label_train))\n",
    "print('전체 데이터의 크기(shape):', Text_train.shape)\n",
    "print('레이블 데이터의 크기(shape):', Label_train.shape)\n"
   ]
  },
  {
   "cell_type": "code",
   "execution_count": 16,
   "metadata": {},
   "outputs": [
    {
     "name": "stdout",
     "output_type": "stream",
     "text": [
      "[    0     0     0     0     0     0     0     0     0     0     0     0\n",
      "     0     0     0     0     0     0     0     0     0     0     0     0\n",
      "     0     0     0     0     0     0     0     0     0     0     0     0\n",
      "     0     0     0     0     0     0     0     0     0     0     0     0\n",
      "     0     0     0     0     0     0     0     0     0     0     0     0\n",
      "     0     0     0     0     0     0     0     0     0     0     0     0\n",
      "     0     0     0     0     0     0     0     0     0     0     0     0\n",
      "     0     0     0     0     0     0     0     0     0     0     0     0\n",
      "     0     0     0     0     0     0     0     0     0     0     0     1\n",
      "    20  4343    22  1225   358 32929     2   285   575   146   272   696\n",
      "  1225  2755   809 54123   285  1911    35    15   289    13  2161  2854\n",
      " 54124]\n",
      "[0. 0. 0. 0. 0. 0. 0. 1. 0.]\n"
     ]
    }
   ],
   "source": [
    "print(Text_train[0])\n",
    "print(Label_train[0])"
   ]
  },
  {
   "cell_type": "code",
   "execution_count": null,
   "metadata": {},
   "outputs": [],
   "source": []
  },
  {
   "cell_type": "code",
   "execution_count": null,
   "metadata": {},
   "outputs": [],
   "source": []
  }
 ],
 "metadata": {
  "kernelspec": {
   "display_name": "Python 3",
   "language": "python",
   "name": "python3"
  },
  "language_info": {
   "codemirror_mode": {
    "name": "ipython",
    "version": 3
   },
   "file_extension": ".py",
   "mimetype": "text/x-python",
   "name": "python",
   "nbconvert_exporter": "python",
   "pygments_lexer": "ipython3",
   "version": "3.7.4"
  }
 },
 "nbformat": 4,
 "nbformat_minor": 4
}
