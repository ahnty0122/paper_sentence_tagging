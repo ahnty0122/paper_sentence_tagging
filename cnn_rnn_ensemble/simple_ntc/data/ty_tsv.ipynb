{
 "cells": [
  {
   "cell_type": "code",
   "execution_count": 1,
   "metadata": {},
   "outputs": [],
   "source": [
    "#데이터처리 - 제안 방법 성능구림\n",
    "#문제 정의 - 제안 방법 hy\n",
    "#대상 데이터 - 제안 방법 ty\n",
    "\n",
    "#성능/효과\t후속연구\n",
    "#대상 데이터\t데이터처리\n",
    "\n",
    "import matplotlib.pyplot as plt\n",
    "%matplotlib inline\n",
    "import pandas as pd\n",
    "import numpy as np\n",
    "import re\n",
    "import os\n",
    "import csv\n",
    "from khaiii import KhaiiiApi"
   ]
  },
  {
   "cell_type": "code",
   "execution_count": 2,
   "metadata": {},
   "outputs": [],
   "source": [
    "from sklearn import preprocessing\n",
    "from sklearn.model_selection import train_test_split\n",
    "import csv\n",
    "import numpy as np"
   ]
  },
  {
   "cell_type": "code",
   "execution_count": 3,
   "metadata": {},
   "outputs": [
    {
     "name": "stdout",
     "output_type": "stream",
     "text": [
      "0        성능/효과\n",
      "1        기술 정의\n",
      "2        데이터처리\n",
      "3        데이터처리\n",
      "4        성능/효과\n",
      "         ...  \n",
      "50709    가설 설정\n",
      "50710    문제 정의\n",
      "50711    문제 정의\n",
      "50712    제안 방법\n",
      "50713    제안 방법\n",
      "Name: tag, Length: 50714, dtype: object\n"
     ]
    }
   ],
   "source": [
    "df = pd.read_csv(\"train_token.tsv\", delimiter='\\t', names=['tag', 'sentence'])\n",
    "LabelData = df['tag']\n",
    "TextData = df['sentence']\n",
    "print(LabelData)"
   ]
  },
  {
   "cell_type": "code",
   "execution_count": 4,
   "metadata": {},
   "outputs": [],
   "source": [
    "TextData2 = []\n",
    "LabelData2 = []\n",
    "for i in range(len(LabelData)):\n",
    "    if LabelData[i] == '성능/효과' or LabelData[i] == '후속연구':\n",
    "        TextData2.append(TextData[i])\n",
    "        LabelData2.append(LabelData[i])"
   ]
  },
  {
   "cell_type": "code",
   "execution_count": 5,
   "metadata": {},
   "outputs": [
    {
     "name": "stdout",
     "output_type": "stream",
     "text": [
      "Write train data to train.tsv ...\n",
      "Write test data to test.tsv ...\n"
     ]
    }
   ],
   "source": [
    "x_text = TextData2\n",
    "y = LabelData2        \n",
    "TextData2 = np.array(TextData2)\n",
    "LabelData2 = np.array(LabelData2)\n",
    "s = np.arange(TextData2.shape[0])\n",
    "np.random.shuffle(s)\n",
    "\n",
    "TextData2 = TextData2[s]\n",
    "#print (\"셔플 한 뒤의 문장 배열: \", TextData)\n",
    "LabelData2 = LabelData2[s]\n",
    "#print (\"셔플 한 뒤의 라벨 배열: \", LabelData) \n",
    "\n",
    "x_train, x_test = train_test_split(TextData2, test_size=0.2, shuffle=False)\n",
    "y_train, y_test = train_test_split(LabelData2, test_size=0.2, shuffle=False)\n",
    "\n",
    "with open('ty_train.tsv', 'wt', newline='', encoding='utf-8-sig') as f:\n",
    "    print('Write train data to {} ...'.format('train.tsv'))\n",
    "    writer = csv.writer(f, delimiter='\\t')\n",
    "    writer.writerows(zip(y_train, x_train))\n",
    "with open('ty_test.tsv', 'w', newline='', encoding='utf-8-sig') as f:\n",
    "    print('Write test data to {} ...'.format('test.tsv'))\n",
    "    writer = csv.writer(f, delimiter='\\t')\n",
    "    writer.writerows(zip(y_test, x_test))"
   ]
  },
  {
   "cell_type": "code",
   "execution_count": null,
   "metadata": {},
   "outputs": [],
   "source": []
  }
 ],
 "metadata": {
  "kernelspec": {
   "display_name": "Python 3",
   "language": "python",
   "name": "python3"
  },
  "language_info": {
   "codemirror_mode": {
    "name": "ipython",
    "version": 3
   },
   "file_extension": ".py",
   "mimetype": "text/x-python",
   "name": "python",
   "nbconvert_exporter": "python",
   "pygments_lexer": "ipython3",
   "version": "3.7.6"
  }
 },
 "nbformat": 4,
 "nbformat_minor": 4
}
