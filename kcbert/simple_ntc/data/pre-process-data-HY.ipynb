{
 "cells": [
  {
   "cell_type": "code",
   "execution_count": 1,
   "metadata": {},
   "outputs": [],
   "source": [
    "import pandas as pd\n",
    "import matplotlib.font_manager as fm\n",
    "from matplotlib import rc\n",
    "import matplotlib.pyplot as plt\n",
    "%matplotlib inline"
   ]
  },
  {
   "cell_type": "code",
   "execution_count": 2,
   "metadata": {
    "scrolled": false
   },
   "outputs": [
    {
     "data": {
      "text/html": [
       "<div>\n",
       "<style scoped>\n",
       "    .dataframe tbody tr th:only-of-type {\n",
       "        vertical-align: middle;\n",
       "    }\n",
       "\n",
       "    .dataframe tbody tr th {\n",
       "        vertical-align: top;\n",
       "    }\n",
       "\n",
       "    .dataframe thead th {\n",
       "        text-align: right;\n",
       "    }\n",
       "</style>\n",
       "<table border=\"1\" class=\"dataframe\">\n",
       "  <thead>\n",
       "    <tr style=\"text-align: right;\">\n",
       "      <th></th>\n",
       "      <th>tag</th>\n",
       "      <th>sentence</th>\n",
       "    </tr>\n",
       "  </thead>\n",
       "  <tbody>\n",
       "    <tr>\n",
       "      <th>0</th>\n",
       "      <td>문제 정의</td>\n",
       "      <td>재난관리체계의 개선(일원화)방법으로는 여러 가지가 있을 수 있겠으나 여기서는 재난관...</td>\n",
       "    </tr>\n",
       "    <tr>\n",
       "      <th>1</th>\n",
       "      <td>문제 정의</td>\n",
       "      <td>이 연구는 재난관리에 관여하는 조직 및 부처들 간의 얼마만큼 재난관리와 관련한 공조...</td>\n",
       "    </tr>\n",
       "    <tr>\n",
       "      <th>2</th>\n",
       "      <td>대상 데이터</td>\n",
       "      <td>본 연구의 사용된 표본의 특성은 Table 5와 같다. 설문지 응답자들의 근무처를 ...</td>\n",
       "    </tr>\n",
       "    <tr>\n",
       "      <th>3</th>\n",
       "      <td>대상 데이터</td>\n",
       "      <td>우리나라에서 재난관리 활동에 영향을 주는 외적요인을 다중응답 분석을 이용해서 살펴보...</td>\n",
       "    </tr>\n",
       "    <tr>\n",
       "      <th>4</th>\n",
       "      <td>대상 데이터</td>\n",
       "      <td>연구자는 국가통합재난관리행정체계에 대한 연구+목적을 달성하기 위하여 소방방재청(기획...</td>\n",
       "    </tr>\n",
       "    <tr>\n",
       "      <th>...</th>\n",
       "      <td>...</td>\n",
       "      <td>...</td>\n",
       "    </tr>\n",
       "    <tr>\n",
       "      <th>63388</th>\n",
       "      <td>기술 정의</td>\n",
       "      <td>스마트시티는 일반적으로 물리적 도시시설이 사물인터넷 등 ICT 기술과 접목되어 효율...</td>\n",
       "    </tr>\n",
       "    <tr>\n",
       "      <th>63389</th>\n",
       "      <td>제안 방법</td>\n",
       "      <td>본 연구에서는 스마트시티에 대한 국내외 현황을 조사하고, 리빙랩 방식으로 시민들의 ...</td>\n",
       "    </tr>\n",
       "    <tr>\n",
       "      <th>63390</th>\n",
       "      <td>대상 데이터</td>\n",
       "      <td>국내외 스마트시티 현황 및 추진사례에서 발현된 핵심전략과 특화프로그램을 종합하여 생...</td>\n",
       "    </tr>\n",
       "    <tr>\n",
       "      <th>63391</th>\n",
       "      <td>성능/효과</td>\n",
       "      <td>이에 따른 주요 실행계획으로는, ①도시 스마트시스템을 구축하여 건강하고 살기 좋은 ...</td>\n",
       "    </tr>\n",
       "    <tr>\n",
       "      <th>63392</th>\n",
       "      <td>성능/효과</td>\n",
       "      <td>건강하고 지속가능한 커뮤니티조성, 인종 및 공간 형평성을 통한 다양한 커뮤니티와 지...</td>\n",
       "    </tr>\n",
       "  </tbody>\n",
       "</table>\n",
       "<p>63393 rows × 2 columns</p>\n",
       "</div>"
      ],
      "text/plain": [
       "          tag                                           sentence\n",
       "0       문제 정의  재난관리체계의 개선(일원화)방법으로는 여러 가지가 있을 수 있겠으나 여기서는 재난관...\n",
       "1       문제 정의  이 연구는 재난관리에 관여하는 조직 및 부처들 간의 얼마만큼 재난관리와 관련한 공조...\n",
       "2      대상 데이터  본 연구의 사용된 표본의 특성은 Table 5와 같다. 설문지 응답자들의 근무처를 ...\n",
       "3      대상 데이터  우리나라에서 재난관리 활동에 영향을 주는 외적요인을 다중응답 분석을 이용해서 살펴보...\n",
       "4      대상 데이터  연구자는 국가통합재난관리행정체계에 대한 연구+목적을 달성하기 위하여 소방방재청(기획...\n",
       "...       ...                                                ...\n",
       "63388   기술 정의  스마트시티는 일반적으로 물리적 도시시설이 사물인터넷 등 ICT 기술과 접목되어 효율...\n",
       "63389   제안 방법  본 연구에서는 스마트시티에 대한 국내외 현황을 조사하고, 리빙랩 방식으로 시민들의 ...\n",
       "63390  대상 데이터  국내외 스마트시티 현황 및 추진사례에서 발현된 핵심전략과 특화프로그램을 종합하여 생...\n",
       "63391   성능/효과  이에 따른 주요 실행계획으로는, ①도시 스마트시스템을 구축하여 건강하고 살기 좋은 ...\n",
       "63392   성능/효과  건강하고 지속가능한 커뮤니티조성, 인종 및 공간 형평성을 통한 다양한 커뮤니티와 지...\n",
       "\n",
       "[63393 rows x 2 columns]"
      ]
     },
     "execution_count": 2,
     "metadata": {},
     "output_type": "execute_result"
    }
   ],
   "source": [
    "df = pd.read_csv(\"refined_data_pre.tsv\", delimiter='\\t', names=['tag', 'sentence'])\n",
    "df"
   ]
  },
  {
   "cell_type": "code",
   "execution_count": 3,
   "metadata": {
    "scrolled": true
   },
   "outputs": [],
   "source": [
    "tag = df['tag']"
   ]
  },
  {
   "cell_type": "code",
   "execution_count": 4,
   "metadata": {
    "scrolled": true
   },
   "outputs": [
    {
     "name": "stdout",
     "output_type": "stream",
     "text": [
      "성능/효과     17494\n",
      "제안 방법      7371\n",
      "대상 데이터     7222\n",
      "데이터처리      7039\n",
      "후속연구       6878\n",
      "문제 정의      6241\n",
      "기술 정의      5981\n",
      "이론/모형      3240\n",
      "가설 설정      1927\n",
      "Name: tag, dtype: int64\n"
     ]
    }
   ],
   "source": [
    "temp = pd.Series(tag)\n",
    "print(temp.value_counts())"
   ]
  },
  {
   "cell_type": "code",
   "execution_count": 5,
   "metadata": {
    "scrolled": true
   },
   "outputs": [
    {
     "data": {
      "text/plain": [
       "<AxesSubplot:>"
      ]
     },
     "execution_count": 5,
     "metadata": {},
     "output_type": "execute_result"
    },
    {
     "name": "stderr",
     "output_type": "stream",
     "text": [
      "/scratch/kedu19/.conda/envs/notebook/lib/python3.7/site-packages/matplotlib/backends/backend_agg.py:238: RuntimeWarning: Glyph 49457 missing from current font.\n",
      "  font.set_text(s, 0.0, flags=flags)\n",
      "/scratch/kedu19/.conda/envs/notebook/lib/python3.7/site-packages/matplotlib/backends/backend_agg.py:238: RuntimeWarning: Glyph 45733 missing from current font.\n",
      "  font.set_text(s, 0.0, flags=flags)\n",
      "/scratch/kedu19/.conda/envs/notebook/lib/python3.7/site-packages/matplotlib/backends/backend_agg.py:238: RuntimeWarning: Glyph 54952 missing from current font.\n",
      "  font.set_text(s, 0.0, flags=flags)\n",
      "/scratch/kedu19/.conda/envs/notebook/lib/python3.7/site-packages/matplotlib/backends/backend_agg.py:238: RuntimeWarning: Glyph 44284 missing from current font.\n",
      "  font.set_text(s, 0.0, flags=flags)\n",
      "/scratch/kedu19/.conda/envs/notebook/lib/python3.7/site-packages/matplotlib/backends/backend_agg.py:238: RuntimeWarning: Glyph 51228 missing from current font.\n",
      "  font.set_text(s, 0.0, flags=flags)\n",
      "/scratch/kedu19/.conda/envs/notebook/lib/python3.7/site-packages/matplotlib/backends/backend_agg.py:238: RuntimeWarning: Glyph 50504 missing from current font.\n",
      "  font.set_text(s, 0.0, flags=flags)\n",
      "/scratch/kedu19/.conda/envs/notebook/lib/python3.7/site-packages/matplotlib/backends/backend_agg.py:238: RuntimeWarning: Glyph 48169 missing from current font.\n",
      "  font.set_text(s, 0.0, flags=flags)\n",
      "/scratch/kedu19/.conda/envs/notebook/lib/python3.7/site-packages/matplotlib/backends/backend_agg.py:238: RuntimeWarning: Glyph 48277 missing from current font.\n",
      "  font.set_text(s, 0.0, flags=flags)\n",
      "/scratch/kedu19/.conda/envs/notebook/lib/python3.7/site-packages/matplotlib/backends/backend_agg.py:238: RuntimeWarning: Glyph 45824 missing from current font.\n",
      "  font.set_text(s, 0.0, flags=flags)\n",
      "/scratch/kedu19/.conda/envs/notebook/lib/python3.7/site-packages/matplotlib/backends/backend_agg.py:238: RuntimeWarning: Glyph 49345 missing from current font.\n",
      "  font.set_text(s, 0.0, flags=flags)\n",
      "/scratch/kedu19/.conda/envs/notebook/lib/python3.7/site-packages/matplotlib/backends/backend_agg.py:238: RuntimeWarning: Glyph 45936 missing from current font.\n",
      "  font.set_text(s, 0.0, flags=flags)\n",
      "/scratch/kedu19/.conda/envs/notebook/lib/python3.7/site-packages/matplotlib/backends/backend_agg.py:238: RuntimeWarning: Glyph 51060 missing from current font.\n",
      "  font.set_text(s, 0.0, flags=flags)\n",
      "/scratch/kedu19/.conda/envs/notebook/lib/python3.7/site-packages/matplotlib/backends/backend_agg.py:238: RuntimeWarning: Glyph 53552 missing from current font.\n",
      "  font.set_text(s, 0.0, flags=flags)\n",
      "/scratch/kedu19/.conda/envs/notebook/lib/python3.7/site-packages/matplotlib/backends/backend_agg.py:238: RuntimeWarning: Glyph 52376 missing from current font.\n",
      "  font.set_text(s, 0.0, flags=flags)\n",
      "/scratch/kedu19/.conda/envs/notebook/lib/python3.7/site-packages/matplotlib/backends/backend_agg.py:238: RuntimeWarning: Glyph 47532 missing from current font.\n",
      "  font.set_text(s, 0.0, flags=flags)\n",
      "/scratch/kedu19/.conda/envs/notebook/lib/python3.7/site-packages/matplotlib/backends/backend_agg.py:238: RuntimeWarning: Glyph 54980 missing from current font.\n",
      "  font.set_text(s, 0.0, flags=flags)\n",
      "/scratch/kedu19/.conda/envs/notebook/lib/python3.7/site-packages/matplotlib/backends/backend_agg.py:238: RuntimeWarning: Glyph 49549 missing from current font.\n",
      "  font.set_text(s, 0.0, flags=flags)\n",
      "/scratch/kedu19/.conda/envs/notebook/lib/python3.7/site-packages/matplotlib/backends/backend_agg.py:238: RuntimeWarning: Glyph 50672 missing from current font.\n",
      "  font.set_text(s, 0.0, flags=flags)\n",
      "/scratch/kedu19/.conda/envs/notebook/lib/python3.7/site-packages/matplotlib/backends/backend_agg.py:238: RuntimeWarning: Glyph 44396 missing from current font.\n",
      "  font.set_text(s, 0.0, flags=flags)\n",
      "/scratch/kedu19/.conda/envs/notebook/lib/python3.7/site-packages/matplotlib/backends/backend_agg.py:238: RuntimeWarning: Glyph 47928 missing from current font.\n",
      "  font.set_text(s, 0.0, flags=flags)\n",
      "/scratch/kedu19/.conda/envs/notebook/lib/python3.7/site-packages/matplotlib/backends/backend_agg.py:238: RuntimeWarning: Glyph 51221 missing from current font.\n",
      "  font.set_text(s, 0.0, flags=flags)\n",
      "/scratch/kedu19/.conda/envs/notebook/lib/python3.7/site-packages/matplotlib/backends/backend_agg.py:238: RuntimeWarning: Glyph 51032 missing from current font.\n",
      "  font.set_text(s, 0.0, flags=flags)\n",
      "/scratch/kedu19/.conda/envs/notebook/lib/python3.7/site-packages/matplotlib/backends/backend_agg.py:238: RuntimeWarning: Glyph 44592 missing from current font.\n",
      "  font.set_text(s, 0.0, flags=flags)\n",
      "/scratch/kedu19/.conda/envs/notebook/lib/python3.7/site-packages/matplotlib/backends/backend_agg.py:238: RuntimeWarning: Glyph 49696 missing from current font.\n",
      "  font.set_text(s, 0.0, flags=flags)\n",
      "/scratch/kedu19/.conda/envs/notebook/lib/python3.7/site-packages/matplotlib/backends/backend_agg.py:238: RuntimeWarning: Glyph 47200 missing from current font.\n",
      "  font.set_text(s, 0.0, flags=flags)\n",
      "/scratch/kedu19/.conda/envs/notebook/lib/python3.7/site-packages/matplotlib/backends/backend_agg.py:238: RuntimeWarning: Glyph 47784 missing from current font.\n",
      "  font.set_text(s, 0.0, flags=flags)\n",
      "/scratch/kedu19/.conda/envs/notebook/lib/python3.7/site-packages/matplotlib/backends/backend_agg.py:238: RuntimeWarning: Glyph 54805 missing from current font.\n",
      "  font.set_text(s, 0.0, flags=flags)\n",
      "/scratch/kedu19/.conda/envs/notebook/lib/python3.7/site-packages/matplotlib/backends/backend_agg.py:238: RuntimeWarning: Glyph 44032 missing from current font.\n",
      "  font.set_text(s, 0.0, flags=flags)\n",
      "/scratch/kedu19/.conda/envs/notebook/lib/python3.7/site-packages/matplotlib/backends/backend_agg.py:238: RuntimeWarning: Glyph 49444 missing from current font.\n",
      "  font.set_text(s, 0.0, flags=flags)\n",
      "/scratch/kedu19/.conda/envs/notebook/lib/python3.7/site-packages/matplotlib/backends/backend_agg.py:201: RuntimeWarning: Glyph 49457 missing from current font.\n",
      "  font.set_text(s, 0, flags=flags)\n",
      "/scratch/kedu19/.conda/envs/notebook/lib/python3.7/site-packages/matplotlib/backends/backend_agg.py:201: RuntimeWarning: Glyph 45733 missing from current font.\n",
      "  font.set_text(s, 0, flags=flags)\n",
      "/scratch/kedu19/.conda/envs/notebook/lib/python3.7/site-packages/matplotlib/backends/backend_agg.py:201: RuntimeWarning: Glyph 54952 missing from current font.\n",
      "  font.set_text(s, 0, flags=flags)\n",
      "/scratch/kedu19/.conda/envs/notebook/lib/python3.7/site-packages/matplotlib/backends/backend_agg.py:201: RuntimeWarning: Glyph 44284 missing from current font.\n",
      "  font.set_text(s, 0, flags=flags)\n",
      "/scratch/kedu19/.conda/envs/notebook/lib/python3.7/site-packages/matplotlib/backends/backend_agg.py:201: RuntimeWarning: Glyph 51228 missing from current font.\n",
      "  font.set_text(s, 0, flags=flags)\n",
      "/scratch/kedu19/.conda/envs/notebook/lib/python3.7/site-packages/matplotlib/backends/backend_agg.py:201: RuntimeWarning: Glyph 50504 missing from current font.\n",
      "  font.set_text(s, 0, flags=flags)\n",
      "/scratch/kedu19/.conda/envs/notebook/lib/python3.7/site-packages/matplotlib/backends/backend_agg.py:201: RuntimeWarning: Glyph 48169 missing from current font.\n",
      "  font.set_text(s, 0, flags=flags)\n",
      "/scratch/kedu19/.conda/envs/notebook/lib/python3.7/site-packages/matplotlib/backends/backend_agg.py:201: RuntimeWarning: Glyph 48277 missing from current font.\n",
      "  font.set_text(s, 0, flags=flags)\n",
      "/scratch/kedu19/.conda/envs/notebook/lib/python3.7/site-packages/matplotlib/backends/backend_agg.py:201: RuntimeWarning: Glyph 45824 missing from current font.\n",
      "  font.set_text(s, 0, flags=flags)\n",
      "/scratch/kedu19/.conda/envs/notebook/lib/python3.7/site-packages/matplotlib/backends/backend_agg.py:201: RuntimeWarning: Glyph 49345 missing from current font.\n",
      "  font.set_text(s, 0, flags=flags)\n",
      "/scratch/kedu19/.conda/envs/notebook/lib/python3.7/site-packages/matplotlib/backends/backend_agg.py:201: RuntimeWarning: Glyph 45936 missing from current font.\n",
      "  font.set_text(s, 0, flags=flags)\n",
      "/scratch/kedu19/.conda/envs/notebook/lib/python3.7/site-packages/matplotlib/backends/backend_agg.py:201: RuntimeWarning: Glyph 51060 missing from current font.\n",
      "  font.set_text(s, 0, flags=flags)\n",
      "/scratch/kedu19/.conda/envs/notebook/lib/python3.7/site-packages/matplotlib/backends/backend_agg.py:201: RuntimeWarning: Glyph 53552 missing from current font.\n",
      "  font.set_text(s, 0, flags=flags)\n",
      "/scratch/kedu19/.conda/envs/notebook/lib/python3.7/site-packages/matplotlib/backends/backend_agg.py:201: RuntimeWarning: Glyph 52376 missing from current font.\n",
      "  font.set_text(s, 0, flags=flags)\n",
      "/scratch/kedu19/.conda/envs/notebook/lib/python3.7/site-packages/matplotlib/backends/backend_agg.py:201: RuntimeWarning: Glyph 47532 missing from current font.\n",
      "  font.set_text(s, 0, flags=flags)\n",
      "/scratch/kedu19/.conda/envs/notebook/lib/python3.7/site-packages/matplotlib/backends/backend_agg.py:201: RuntimeWarning: Glyph 54980 missing from current font.\n",
      "  font.set_text(s, 0, flags=flags)\n",
      "/scratch/kedu19/.conda/envs/notebook/lib/python3.7/site-packages/matplotlib/backends/backend_agg.py:201: RuntimeWarning: Glyph 49549 missing from current font.\n",
      "  font.set_text(s, 0, flags=flags)\n",
      "/scratch/kedu19/.conda/envs/notebook/lib/python3.7/site-packages/matplotlib/backends/backend_agg.py:201: RuntimeWarning: Glyph 50672 missing from current font.\n",
      "  font.set_text(s, 0, flags=flags)\n",
      "/scratch/kedu19/.conda/envs/notebook/lib/python3.7/site-packages/matplotlib/backends/backend_agg.py:201: RuntimeWarning: Glyph 44396 missing from current font.\n",
      "  font.set_text(s, 0, flags=flags)\n",
      "/scratch/kedu19/.conda/envs/notebook/lib/python3.7/site-packages/matplotlib/backends/backend_agg.py:201: RuntimeWarning: Glyph 47928 missing from current font.\n",
      "  font.set_text(s, 0, flags=flags)\n",
      "/scratch/kedu19/.conda/envs/notebook/lib/python3.7/site-packages/matplotlib/backends/backend_agg.py:201: RuntimeWarning: Glyph 51221 missing from current font.\n",
      "  font.set_text(s, 0, flags=flags)\n",
      "/scratch/kedu19/.conda/envs/notebook/lib/python3.7/site-packages/matplotlib/backends/backend_agg.py:201: RuntimeWarning: Glyph 51032 missing from current font.\n",
      "  font.set_text(s, 0, flags=flags)\n",
      "/scratch/kedu19/.conda/envs/notebook/lib/python3.7/site-packages/matplotlib/backends/backend_agg.py:201: RuntimeWarning: Glyph 44592 missing from current font.\n",
      "  font.set_text(s, 0, flags=flags)\n",
      "/scratch/kedu19/.conda/envs/notebook/lib/python3.7/site-packages/matplotlib/backends/backend_agg.py:201: RuntimeWarning: Glyph 49696 missing from current font.\n",
      "  font.set_text(s, 0, flags=flags)\n",
      "/scratch/kedu19/.conda/envs/notebook/lib/python3.7/site-packages/matplotlib/backends/backend_agg.py:201: RuntimeWarning: Glyph 47200 missing from current font.\n",
      "  font.set_text(s, 0, flags=flags)\n",
      "/scratch/kedu19/.conda/envs/notebook/lib/python3.7/site-packages/matplotlib/backends/backend_agg.py:201: RuntimeWarning: Glyph 47784 missing from current font.\n",
      "  font.set_text(s, 0, flags=flags)\n",
      "/scratch/kedu19/.conda/envs/notebook/lib/python3.7/site-packages/matplotlib/backends/backend_agg.py:201: RuntimeWarning: Glyph 54805 missing from current font.\n",
      "  font.set_text(s, 0, flags=flags)\n",
      "/scratch/kedu19/.conda/envs/notebook/lib/python3.7/site-packages/matplotlib/backends/backend_agg.py:201: RuntimeWarning: Glyph 44032 missing from current font.\n",
      "  font.set_text(s, 0, flags=flags)\n",
      "/scratch/kedu19/.conda/envs/notebook/lib/python3.7/site-packages/matplotlib/backends/backend_agg.py:201: RuntimeWarning: Glyph 49444 missing from current font.\n",
      "  font.set_text(s, 0, flags=flags)\n"
     ]
    },
    {
     "data": {
      "image/png": "[encoded data removed]",
      "text/plain": [
       "<Figure size 432x288 with 1 Axes>"
      ]
     },
     "metadata": {
      "needs_background": "light"
     },
     "output_type": "display_data"
    }
   ],
   "source": [
    "temp.value_counts().plot(kind = 'bar')"
   ]
  },
  {
   "cell_type": "code",
   "execution_count": 6,
   "metadata": {
    "scrolled": true
   },
   "outputs": [],
   "source": [
    "# ! python refine.py refine.regex.txt 1 < data_pre.tsv > refined_data_pre.tsv"
   ]
  },
  {
   "cell_type": "code",
   "execution_count": 7,
   "metadata": {},
   "outputs": [],
   "source": [
    "from sklearn import preprocessing\n",
    "from sklearn.model_selection import train_test_split\n",
    "import csv\n",
    "import numpy as np"
   ]
  },
  {
   "cell_type": "code",
   "execution_count": 8,
   "metadata": {},
   "outputs": [
    {
     "name": "stdout",
     "output_type": "stream",
     "text": [
      "Write train data to train.tsv ...\n",
      "Write test data to test.tsv ...\n"
     ]
    }
   ],
   "source": [
    "LabelData = df['tag']\n",
    "TextData = df['sentence']\n",
    "\n",
    "x_text = TextData\n",
    "y = LabelData\n",
    "    \n",
    "s = np.arange(TextData.shape[0])\n",
    "np.random.shuffle(s)\n",
    "\n",
    "TextData = TextData[s]\n",
    "#print (\"셔플 한 뒤의 문장 배열: \", TextData)\n",
    "LabelData = LabelData[s]\n",
    "#print (\"셔플 한 뒤의 라벨 배열: \", LabelData) \n",
    "\n",
    "x_train, x_test = train_test_split(TextData, test_size=0.2, shuffle=False)\n",
    "y_train, y_test = train_test_split(LabelData, test_size=0.2, shuffle=False)\n",
    "\n",
    "        \n",
    "    \n",
    "# Write to TSV file\n",
    "with open('train.tsv', 'wt', newline='', encoding='utf-8-sig') as f:\n",
    "    print('Write train data to {} ...'.format('train.tsv'))\n",
    "    writer = csv.writer(f, delimiter='\\t')\n",
    "    writer.writerows(zip(y_train, x_train))\n",
    "with open('test.tsv', 'w', newline='', encoding='utf-8-sig') as f:\n",
    "    print('Write test data to {} ...'.format('test.tsv'))\n",
    "    writer = csv.writer(f, delimiter='\\t')\n",
    "    writer.writerows(zip(y_test, x_test))"
   ]
  },
  {
   "cell_type": "code",
   "execution_count": 9,
   "metadata": {},
   "outputs": [],
   "source": [
    "train = pd.read_csv(\"train.tsv\", delimiter='\\t', names=['tag', 'sentence'])"
   ]
  },
  {
   "cell_type": "code",
   "execution_count": 10,
   "metadata": {},
   "outputs": [
    {
     "data": {
      "text/html": [
       "<div>\n",
       "<style scoped>\n",
       "    .dataframe tbody tr th:only-of-type {\n",
       "        vertical-align: middle;\n",
       "    }\n",
       "\n",
       "    .dataframe tbody tr th {\n",
       "        vertical-align: top;\n",
       "    }\n",
       "\n",
       "    .dataframe thead th {\n",
       "        text-align: right;\n",
       "    }\n",
       "</style>\n",
       "<table border=\"1\" class=\"dataframe\">\n",
       "  <thead>\n",
       "    <tr style=\"text-align: right;\">\n",
       "      <th></th>\n",
       "      <th>tag</th>\n",
       "      <th>sentence</th>\n",
       "    </tr>\n",
       "  </thead>\n",
       "  <tbody>\n",
       "    <tr>\n",
       "      <th>0</th>\n",
       "      <td>성능/효과</td>\n",
       "      <td>균질한 검체로부터 다수의 시료를 취해 반복적으로 시험을 실시할 때 각 시험 결과의 ...</td>\n",
       "    </tr>\n",
       "    <tr>\n",
       "      <th>1</th>\n",
       "      <td>가설 설정</td>\n",
       "      <td>H5: PC 소프트웨어 불법복제에 대한 태도는 스마트폰 앱 불법복제 태도에 정(+)...</td>\n",
       "    </tr>\n",
       "    <tr>\n",
       "      <th>2</th>\n",
       "      <td>제안 방법</td>\n",
       "      <td>3) 가정폭력 유형에 따른 상관관계 효과크기는 어떠한가?</td>\n",
       "    </tr>\n",
       "    <tr>\n",
       "      <th>3</th>\n",
       "      <td>후속연구</td>\n",
       "      <td>또한 아직까지 KTAS 수행능력에 영향을 미치는 요인을 분석한 선행연구가 없으므로,...</td>\n",
       "    </tr>\n",
       "    <tr>\n",
       "      <th>4</th>\n",
       "      <td>성능/효과</td>\n",
       "      <td>또한 구조물의 내부 설계의 조밀성에 따라 크기는 유사해도 출력시간이나 소재의 소모량...</td>\n",
       "    </tr>\n",
       "    <tr>\n",
       "      <th>...</th>\n",
       "      <td>...</td>\n",
       "      <td>...</td>\n",
       "    </tr>\n",
       "    <tr>\n",
       "      <th>50709</th>\n",
       "      <td>문제 정의</td>\n",
       "      <td>본 연구의 목적은 119구급대원의 일반적 특성과 외상사건 경험 및 외상 후 스트레스...</td>\n",
       "    </tr>\n",
       "    <tr>\n",
       "      <th>50710</th>\n",
       "      <td>기술 정의</td>\n",
       "      <td>수인성 전염병은 물과 식품이 전염성 있는 병원성 미생물에 오염되어 발생하는 질환으로...</td>\n",
       "    </tr>\n",
       "    <tr>\n",
       "      <th>50711</th>\n",
       "      <td>성능/효과</td>\n",
       "      <td>3년간 3,230명의 급성호흡기감염증환자에서 호흡기 검체를 채취하였고, 총 1,48...</td>\n",
       "    </tr>\n",
       "    <tr>\n",
       "      <th>50712</th>\n",
       "      <td>데이터처리</td>\n",
       "      <td>뇌교육 기반 학습캠프 프로그램의 효과성을 검증하기 위해서 초등학생 대상 자기주도적 ...</td>\n",
       "    </tr>\n",
       "    <tr>\n",
       "      <th>50713</th>\n",
       "      <td>제안 방법</td>\n",
       "      <td>현장단위에서 작업이 수행되는 작업요소의 작업코드는 시설요소의 시설코드, 공간요소의 ...</td>\n",
       "    </tr>\n",
       "  </tbody>\n",
       "</table>\n",
       "<p>50714 rows × 2 columns</p>\n",
       "</div>"
      ],
      "text/plain": [
       "         tag                                           sentence\n",
       "0      성능/효과  균질한 검체로부터 다수의 시료를 취해 반복적으로 시험을 실시할 때 각 시험 결과의 ...\n",
       "1      가설 설정  H5: PC 소프트웨어 불법복제에 대한 태도는 스마트폰 앱 불법복제 태도에 정(+)...\n",
       "2      제안 방법                    3) 가정폭력 유형에 따른 상관관계 효과크기는 어떠한가?\n",
       "3       후속연구  또한 아직까지 KTAS 수행능력에 영향을 미치는 요인을 분석한 선행연구가 없으므로,...\n",
       "4      성능/효과  또한 구조물의 내부 설계의 조밀성에 따라 크기는 유사해도 출력시간이나 소재의 소모량...\n",
       "...      ...                                                ...\n",
       "50709  문제 정의  본 연구의 목적은 119구급대원의 일반적 특성과 외상사건 경험 및 외상 후 스트레스...\n",
       "50710  기술 정의  수인성 전염병은 물과 식품이 전염성 있는 병원성 미생물에 오염되어 발생하는 질환으로...\n",
       "50711  성능/효과  3년간 3,230명의 급성호흡기감염증환자에서 호흡기 검체를 채취하였고, 총 1,48...\n",
       "50712  데이터처리  뇌교육 기반 학습캠프 프로그램의 효과성을 검증하기 위해서 초등학생 대상 자기주도적 ...\n",
       "50713  제안 방법  현장단위에서 작업이 수행되는 작업요소의 작업코드는 시설요소의 시설코드, 공간요소의 ...\n",
       "\n",
       "[50714 rows x 2 columns]"
      ]
     },
     "execution_count": 10,
     "metadata": {},
     "output_type": "execute_result"
    }
   ],
   "source": [
    "train"
   ]
  },
  {
   "cell_type": "code",
   "execution_count": 11,
   "metadata": {},
   "outputs": [
    {
     "name": "stdout",
     "output_type": "stream",
     "text": [
      "성능/효과     17494\n",
      "제안 방법      7371\n",
      "대상 데이터     7222\n",
      "데이터처리      7039\n",
      "후속연구       6878\n",
      "문제 정의      6241\n",
      "기술 정의      5981\n",
      "이론/모형      3240\n",
      "가설 설정      1927\n",
      "Name: tag, dtype: int64\n"
     ]
    }
   ],
   "source": [
    "tag = df['tag']\n",
    "temp = pd.Series(tag)\n",
    "print(temp.value_counts())"
   ]
  },
  {
   "cell_type": "code",
   "execution_count": 56,
   "metadata": {},
   "outputs": [],
   "source": [
    "test = pd.read_csv(\"test.tsv\", delimiter='\\t', names=['tag', 'sentence'])"
   ]
  },
  {
   "cell_type": "code",
   "execution_count": 57,
   "metadata": {},
   "outputs": [
    {
     "name": "stdout",
     "output_type": "stream",
     "text": [
      "성능/효과     17494\n",
      "제안 방법      7371\n",
      "대상 데이터     7222\n",
      "데이터처리      7039\n",
      "후속연구       6878\n",
      "문제 정의      6241\n",
      "기술 정의      5981\n",
      "이론/모형      3240\n",
      "가설 설정      1927\n",
      "Name: tag, dtype: int64\n"
     ]
    }
   ],
   "source": [
    "tag = df['tag']\n",
    "temp = pd.Series(tag)\n",
    "print(temp.value_counts())"
   ]
  },
  {
   "cell_type": "code",
   "execution_count": 58,
   "metadata": {},
   "outputs": [
    {
     "data": {
      "text/plain": [
       "0        재난관리체계의 개선(일원화)방법으로는 여러 가지가 있을 수 있겠으나 여기서는 재난관...\n",
       "1        이 연구는 재난관리에 관여하는 조직 및 부처들 간의 얼마만큼 재난관리와 관련한 공조...\n",
       "2        본 연구의 사용된 표본의 특성은 Table 5와 같다. 설문지 응답자들의 근무처를 ...\n",
       "3        우리나라에서 재난관리 활동에 영향을 주는 외적요인을 다중응답 분석을 이용해서 살펴보...\n",
       "4        연구자는 국가통합재난관리행정체계에 대한 연구+목적을 달성하기 위하여 소방방재청(기획...\n",
       "                               ...                        \n",
       "63388    스마트시티는 일반적으로 물리적 도시시설이 사물인터넷 등 ICT 기술과 접목되어 효율...\n",
       "63389    본 연구에서는 스마트시티에 대한 국내외 현황을 조사하고, 리빙랩 방식으로 시민들의 ...\n",
       "63390    국내외 스마트시티 현황 및 추진사례에서 발현된 핵심전략과 특화프로그램을 종합하여 생...\n",
       "63391    이에 따른 주요 실행계획으로는, ①도시 스마트시스템을 구축하여 건강하고 살기 좋은 ...\n",
       "63392    건강하고 지속가능한 커뮤니티조성, 인종 및 공간 형평성을 통한 다양한 커뮤니티와 지...\n",
       "Name: sentence, Length: 63393, dtype: object"
      ]
     },
     "execution_count": 58,
     "metadata": {},
     "output_type": "execute_result"
    }
   ],
   "source": [
    "tag = df['sentence']\n",
    "tag"
   ]
  },
  {
   "cell_type": "code",
   "execution_count": null,
   "metadata": {},
   "outputs": [],
   "source": []
  }
 ],
 "metadata": {
  "kernelspec": {
   "display_name": "Python 3",
   "language": "python",
   "name": "python3"
  },
  "language_info": {
   "codemirror_mode": {
    "name": "ipython",
    "version": 3
   },
   "file_extension": ".py",
   "mimetype": "text/x-python",
   "name": "python",
   "nbconvert_exporter": "python",
   "pygments_lexer": "ipython3",
   "version": "3.7.6"
  }
 },
 "nbformat": 4,
 "nbformat_minor": 4
}
